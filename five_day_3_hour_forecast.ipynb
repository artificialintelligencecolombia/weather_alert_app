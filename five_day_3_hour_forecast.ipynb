{
 "cells": [
  {
   "cell_type": "code",
   "execution_count": 10,
   "metadata": {},
   "outputs": [],
   "source": [
    "import requests\n",
    "from twilio.rest import Client\n"
   ]
  },
  {
   "cell_type": "code",
   "execution_count": 11,
   "metadata": {},
   "outputs": [],
   "source": [
    "API_KEY = 'a31826faf7d1eaa3b356be645473c542'\n",
    "latitude = 6.281630\n",
    "longitude = -75.332850\n",
    "endpoint = f'https://api.openweathermap.org/data/2.5/forecast?'\n",
    "params = {\n",
    "    'lat': latitude,\n",
    "    'lon': longitude,\n",
    "    'appid': API_KEY,\n",
    "    'units': 'metric',\n",
    "    'lang': 'es',\n",
    "    'cnt': 8\n",
    "}"
   ]
  },
  {
   "cell_type": "code",
   "execution_count": 3,
   "metadata": {},
   "outputs": [],
   "source": [
    "account_sid = \"ACbb7d83b1756210b75dc987a5776c5b95\"\n",
    "auth_token = \"5461081b3c0b6a87289a336a26a43265\"\n"
   ]
  },
  {
   "cell_type": "code",
   "execution_count": 12,
   "metadata": {},
   "outputs": [
    {
     "name": "stdout",
     "output_type": "stream",
     "text": [
      "Response: <Response [200]>\n",
      "code: 200\n"
     ]
    }
   ],
   "source": [
    "response = requests.get(endpoint, params=params)\n",
    "response.raise_for_status()\n",
    "print(f\"Response: {response}\")\n",
    "print(f\"code: {response.status_code}\")\n"
   ]
  },
  {
   "cell_type": "code",
   "execution_count": 13,
   "metadata": {},
   "outputs": [
    {
     "name": "stdout",
     "output_type": "stream",
     "text": [
      "{'cod': '200', 'message': 0, 'cnt': 8, 'list': [{'dt': 1736380800, 'main': {'temp': 18.7, 'feels_like': 18.64, 'temp_min': 13.27, 'temp_max': 18.7, 'pressure': 1014, 'sea_level': 1014, 'grnd_level': 781, 'humidity': 77, 'temp_kf': 5.43}, 'weather': [{'id': 500, 'main': 'Rain', 'description': 'lluvia ligera', 'icon': '10n'}], 'clouds': {'all': 40}, 'wind': {'speed': 0.9, 'deg': 56, 'gust': 0.86}, 'visibility': 10000, 'pop': 1, 'rain': {'3h': 1.16}, 'sys': {'pod': 'n'}, 'dt_txt': '2025-01-09 00:00:00'}, {'dt': 1736391600, 'main': {'temp': 16.82, 'feels_like': 16.75, 'temp_min': 13.07, 'temp_max': 16.82, 'pressure': 1015, 'sea_level': 1015, 'grnd_level': 783, 'humidity': 84, 'temp_kf': 3.75}, 'weather': [{'id': 803, 'main': 'Clouds', 'description': 'muy nuboso', 'icon': '04n'}], 'clouds': {'all': 58}, 'wind': {'speed': 0.28, 'deg': 345, 'gust': 0.6}, 'visibility': 10000, 'pop': 0.03, 'sys': {'pod': 'n'}, 'dt_txt': '2025-01-09 03:00:00'}, {'dt': 1736402400, 'main': {'temp': 14.48, 'feels_like': 14.33, 'temp_min': 12.37, 'temp_max': 14.48, 'pressure': 1015, 'sea_level': 1015, 'grnd_level': 782, 'humidity': 90, 'temp_kf': 2.11}, 'weather': [{'id': 803, 'main': 'Clouds', 'description': 'muy nuboso', 'icon': '04n'}], 'clouds': {'all': 79}, 'wind': {'speed': 0.57, 'deg': 260, 'gust': 0.66}, 'visibility': 10000, 'pop': 0.02, 'sys': {'pod': 'n'}, 'dt_txt': '2025-01-09 06:00:00'}, {'dt': 1736413200, 'main': {'temp': 11.36, 'feels_like': 11.11, 'temp_min': 11.36, 'temp_max': 11.36, 'pressure': 1015, 'sea_level': 1015, 'grnd_level': 781, 'humidity': 98, 'temp_kf': 0}, 'weather': [{'id': 803, 'main': 'Clouds', 'description': 'muy nuboso', 'icon': '04n'}], 'clouds': {'all': 83}, 'wind': {'speed': 0.72, 'deg': 264, 'gust': 0.84}, 'visibility': 10000, 'pop': 0, 'sys': {'pod': 'n'}, 'dt_txt': '2025-01-09 09:00:00'}, {'dt': 1736424000, 'main': {'temp': 11.93, 'feels_like': 11.69, 'temp_min': 11.93, 'temp_max': 11.93, 'pressure': 1017, 'sea_level': 1017, 'grnd_level': 783, 'humidity': 96, 'temp_kf': 0}, 'weather': [{'id': 803, 'main': 'Clouds', 'description': 'muy nuboso', 'icon': '04d'}], 'clouds': {'all': 66}, 'wind': {'speed': 0.21, 'deg': 208, 'gust': 0.6}, 'visibility': 10000, 'pop': 0, 'sys': {'pod': 'd'}, 'dt_txt': '2025-01-09 12:00:00'}, {'dt': 1736434800, 'main': {'temp': 18.84, 'feels_like': 18.22, 'temp_min': 18.84, 'temp_max': 18.84, 'pressure': 1015, 'sea_level': 1015, 'grnd_level': 783, 'humidity': 55, 'temp_kf': 0}, 'weather': [{'id': 802, 'main': 'Clouds', 'description': 'nubes dispersas', 'icon': '03d'}], 'clouds': {'all': 38}, 'wind': {'speed': 1.75, 'deg': 68, 'gust': 1.76}, 'visibility': 10000, 'pop': 0, 'sys': {'pod': 'd'}, 'dt_txt': '2025-01-09 15:00:00'}, {'dt': 1736445600, 'main': {'temp': 22.17, 'feels_like': 21.46, 'temp_min': 22.17, 'temp_max': 22.17, 'pressure': 1011, 'sea_level': 1011, 'grnd_level': 781, 'humidity': 39, 'temp_kf': 0}, 'weather': [{'id': 802, 'main': 'Clouds', 'description': 'nubes dispersas', 'icon': '03d'}], 'clouds': {'all': 40}, 'wind': {'speed': 2.02, 'deg': 50, 'gust': 1.46}, 'visibility': 10000, 'pop': 0, 'sys': {'pod': 'd'}, 'dt_txt': '2025-01-09 18:00:00'}, {'dt': 1736456400, 'main': {'temp': 19.17, 'feels_like': 18.71, 'temp_min': 19.17, 'temp_max': 19.17, 'pressure': 1010, 'sea_level': 1010, 'grnd_level': 780, 'humidity': 60, 'temp_kf': 0}, 'weather': [{'id': 500, 'main': 'Rain', 'description': 'lluvia ligera', 'icon': '10d'}], 'clouds': {'all': 56}, 'wind': {'speed': 1.95, 'deg': 88, 'gust': 2.16}, 'visibility': 10000, 'pop': 0.26, 'rain': {'3h': 0.13}, 'sys': {'pod': 'd'}, 'dt_txt': '2025-01-09 21:00:00'}], 'city': {'id': 3668302, 'name': 'San Vicente', 'coord': {'lat': 6.2816, 'lon': -75.3328}, 'country': 'CO', 'population': 5020, 'timezone': -18000, 'sunrise': 1736334877, 'sunset': 1736377275}}\n"
     ]
    }
   ],
   "source": [
    "data = response.json()\n",
    "raw_list = data['list']\n",
    "print(data)"
   ]
  },
  {
   "cell_type": "code",
   "execution_count": null,
   "metadata": {},
   "outputs": [
    {
     "name": "stdout",
     "output_type": "stream",
     "text": [
      "queued\n"
     ]
    }
   ],
   "source": [
    "umbrella_required = False\n",
    "for timestamp in raw_list:\n",
    "    weather_code = timestamp['weather'][0]['id']\n",
    "    if int(weather_code) < 701:\n",
    "        will_rain = True\n",
    "        break  # Exit the loop since we found a match\n",
    "    \n",
    "if will_rain:\n",
    "    client = Client(account_sid, auth_token)\n",
    "    msn = client.messages.create( \n",
    "        body=\"Hoy llueve papi, preparese.\",\n",
    "        from_=\"whatsapp:+14155238886\",\n",
    "        to=\"whatsapp:+573045201870\",\n",
    "        )\n",
    "    print(msn.status)"
   ]
  },
  {
   "cell_type": "code",
   "execution_count": null,
   "metadata": {},
   "outputs": [],
   "source": []
  }
 ],
 "metadata": {
  "kernelspec": {
   "display_name": "Python 3",
   "language": "python",
   "name": "python3"
  },
  "language_info": {
   "codemirror_mode": {
    "name": "ipython",
    "version": 3
   },
   "file_extension": ".py",
   "mimetype": "text/x-python",
   "name": "python",
   "nbconvert_exporter": "python",
   "pygments_lexer": "ipython3",
   "version": "3.12.3"
  }
 },
 "nbformat": 4,
 "nbformat_minor": 2
}
