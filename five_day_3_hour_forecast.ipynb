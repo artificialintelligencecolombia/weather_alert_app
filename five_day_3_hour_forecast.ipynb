{
 "cells": [
  {
   "cell_type": "code",
   "execution_count": 1,
   "metadata": {},
   "outputs": [],
   "source": [
    "import requests\n",
    "from twilio.rest import Client\n"
   ]
  },
  {
   "cell_type": "code",
   "execution_count": 2,
   "metadata": {},
   "outputs": [],
   "source": [
    "API_KEY = 'a31826faf7d1eaa3b356be645473c542'\n",
    "latitude = 6.281630\n",
    "longitude = -75.332850\n",
    "endpoint = f'https://api.openweathermap.org/data/2.5/forecast?'\n",
    "params = {\n",
    "    'lat': latitude,\n",
    "    'lon': longitude,\n",
    "    'appid': API_KEY,\n",
    "    'units': 'metric',\n",
    "    'lang': 'es',\n",
    "    'cnt': 8\n",
    "}"
   ]
  },
  {
   "cell_type": "code",
   "execution_count": 3,
   "metadata": {},
   "outputs": [],
   "source": [
    "account_sid = \"ACbb7d83b1756210b75dc987a5776c5b95\"\n",
    "auth_token = \"5461081b3c0b6a87289a336a26a43265\"\n"
   ]
  },
  {
   "cell_type": "code",
   "execution_count": null,
   "metadata": {},
   "outputs": [],
   "source": [
    "response = requests.get(endpoint, params=params)\n",
    "response.raise_for_status()\n",
    "print(f\"Response: {response}\")\n",
    "print(f\"code: {response.status_code}\")\n"
   ]
  },
  {
   "cell_type": "code",
   "execution_count": null,
   "metadata": {},
   "outputs": [],
   "source": [
    "data = response.json()\n",
    "raw_list = data['list']\n",
    "print(data)"
   ]
  },
  {
   "cell_type": "code",
   "execution_count": null,
   "metadata": {},
   "outputs": [],
   "source": [
    "umbrella_required = False\n",
    "for timestamp in raw_list:\n",
    "    code = timestamp['weather'][0]['id']\n",
    "    if int(code) < 701:\n",
    "        will_rain = True\n",
    "        break  # Exit the loop since we found a match\n",
    "    \n",
    "if will_rain:\n",
    "    client = Client(account_sid, auth_token)\n",
    "    message = client.messages.create(\n",
    "        body=\"Greetings from the coding universe!\",\n",
    "        from_=\"whatsapp:+18787788139\",\n",
    "        to=\"whatsapp:+573045201870\",\n",
    "        )\n",
    "    print(message.status)"
   ]
  }
 ],
 "metadata": {
  "kernelspec": {
   "display_name": "Python 3",
   "language": "python",
   "name": "python3"
  },
  "language_info": {
   "codemirror_mode": {
    "name": "ipython",
    "version": 3
   },
   "file_extension": ".py",
   "mimetype": "text/x-python",
   "name": "python",
   "nbconvert_exporter": "python",
   "pygments_lexer": "ipython3",
   "version": "3.12.3"
  }
 },
 "nbformat": 4,
 "nbformat_minor": 2
}
